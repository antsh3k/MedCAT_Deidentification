{
 "cells": [
  {
   "cell_type": "code",
   "execution_count": 2,
   "id": "4dae15b8",
   "metadata": {},
   "outputs": [],
   "source": [
    "from medcat.cdb import CDB\n",
    "import pandas as pd\n",
    "import json"
   ]
  },
  {
   "cell_type": "code",
   "execution_count": 4,
   "id": "8c2938b6",
   "metadata": {},
   "outputs": [],
   "source": [
    "cdb_path = '../../Creating a CDB/20211218_basic_deid_cdb.dat'\n",
    "cdb = CDB.load(cdb_path)"
   ]
  },
  {
   "cell_type": "code",
   "execution_count": null,
   "id": "02afae5a",
   "metadata": {},
   "outputs": [],
   "source": [
    "#list(cdb.addl_info['cui2original_names'].keys())"
   ]
  },
  {
   "cell_type": "code",
   "execution_count": 10,
   "id": "36bc0415",
   "metadata": {},
   "outputs": [
    {
     "data": {
      "text/plain": [
       "{'R0000': {'de-identification root concept'},\n",
       " 'N1000': {'name'},\n",
       " 'N1100': {'forename'},\n",
       " 'N1200': {'surname'},\n",
       " 'N1300': {'initials'},\n",
       " 'C2000': {'contact details'},\n",
       " 'C2100': {'address'},\n",
       " 'C2110': {'address lines'},\n",
       " 'C2120': {'postcode'},\n",
       " 'C2200': {'telephone number'},\n",
       " 'C2300': {'email'},\n",
       " 'C2400': {'personal identification'},\n",
       " 'C2410': {'passport number'},\n",
       " 'C2420': {'driving licence number'},\n",
       " 'C2430': {'national insurance number'},\n",
       " 'H3000': {'healthcare identifier'},\n",
       " 'H3100': {'nhs number'},\n",
       " 'H3200': {'hospital number'},\n",
       " 'H3400': {'lab number'},\n",
       " 'H3500': {'gmc number'},\n",
       " 'D4000': {'date'},\n",
       " 'H4100': {'date of birth'},\n",
       " 'W5000': {'website'}}"
      ]
     },
     "execution_count": 10,
     "metadata": {},
     "output_type": "execute_result"
    }
   ],
   "source": [
    "cdb.addl_info['cui2original_names']"
   ]
  },
  {
   "cell_type": "code",
   "execution_count": 12,
   "id": "6e29d789",
   "metadata": {},
   "outputs": [],
   "source": [
    "concept_filter = [\n",
    "'N1100',\n",
    "'N1200',\n",
    "'N1300',\n",
    "'C2100',\n",
    "'C2110',\n",
    "'C2120',\n",
    "'C2200',\n",
    "'C2300',\n",
    "'C2410',\n",
    "'C2420',\n",
    "'C2430',\n",
    "'H3000',\n",
    "'H3100',\n",
    "'H3200',\n",
    "'H3400',\n",
    "'H3500',\n",
    "'D4000',\n",
    "'H4100',\n",
    "'W5000'\n",
    "]"
   ]
  },
  {
   "cell_type": "code",
   "execution_count": 13,
   "id": "e0ddeca3",
   "metadata": {},
   "outputs": [],
   "source": [
    "with open('deid_filter.json', 'w') as jsonfile:\n",
    "    json.dump(concept_filter, jsonfile)"
   ]
  },
  {
   "cell_type": "code",
   "execution_count": null,
   "id": "db972696",
   "metadata": {},
   "outputs": [],
   "source": []
  }
 ],
 "metadata": {
  "kernelspec": {
   "display_name": "Python 3 (ipykernel)",
   "language": "python",
   "name": "python3"
  },
  "language_info": {
   "codemirror_mode": {
    "name": "ipython",
    "version": 3
   },
   "file_extension": ".py",
   "mimetype": "text/x-python",
   "name": "python",
   "nbconvert_exporter": "python",
   "pygments_lexer": "ipython3",
   "version": "3.7.3"
  }
 },
 "nbformat": 4,
 "nbformat_minor": 5
}
